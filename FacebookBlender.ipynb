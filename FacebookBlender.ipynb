{
  "nbformat": 4,
  "nbformat_minor": 0,
  "metadata": {
    "colab": {
      "name": "FacebookBlender.ipynb",
      "provenance": [],
      "collapsed_sections": [],
      "include_colab_link": true
    },
    "kernelspec": {
      "name": "python3",
      "display_name": "Python 3"
    },
    "accelerator": "GPU"
  },
  "cells": [
    {
      "cell_type": "markdown",
      "metadata": {
        "id": "view-in-github",
        "colab_type": "text"
      },
      "source": [
        "<a href=\"https://colab.research.google.com/github/may22es/mlearning/blob/master/FacebookBlender.ipynb\" target=\"_parent\"><img src=\"https://colab.research.google.com/assets/colab-badge.svg\" alt=\"Open In Colab\"/></a>"
      ]
    },
    {
      "cell_type": "code",
      "metadata": {
        "id": "A_1jzmRO0MfS",
        "colab_type": "code",
        "colab": {}
      },
      "source": [
        "!git clone https://github.com/facebookresearch/ParlAI.git"
      ],
      "execution_count": 0,
      "outputs": []
    },
    {
      "cell_type": "code",
      "metadata": {
        "id": "wEQ05Eyy5J0Q",
        "colab_type": "code",
        "colab": {}
      },
      "source": [
        "!cd ParlAI; python setup.py develop"
      ],
      "execution_count": 0,
      "outputs": []
    },
    {
      "cell_type": "code",
      "metadata": {
        "id": "xOGHl4Xh-u75",
        "colab_type": "code",
        "colab": {}
      },
      "source": [
        "!pip install 'git+https://github.com/rsennrich/subword-nmt.git#egg=subword-nmt'"
      ],
      "execution_count": 0,
      "outputs": []
    },
    {
      "cell_type": "markdown",
      "metadata": {
        "id": "nlUoqHFMIbx4",
        "colab_type": "text"
      },
      "source": [
        "<br>\n",
        "<br>\n",
        "실행 후  \"Enter Your Message:\"가 나오면 대화를 시작합니다."
      ]
    },
    {
      "cell_type": "code",
      "metadata": {
        "id": "Op6uYQn59qXq",
        "colab_type": "code",
        "colab": {}
      },
      "source": [
        "# 90M 파라미터 모델\n",
        "!python ParlAI/parlai/scripts/safe_interactive.py -t blended_skill_talk -mf zoo:blender/blender_90M/model"
      ],
      "execution_count": 0,
      "outputs": []
    },
    {
      "cell_type": "markdown",
      "metadata": {
        "id": "XzYIC1rICERv",
        "colab_type": "text"
      },
      "source": [
        "<br>\n",
        "<br>\n",
        "90M 모델이 실행된 상태라면 먼저 런타임 초기화를 하여 메모리를 삭제하셔야 합니다. 그런 다음 다시 설치를 하고 바로 2.7B 모델을 실행하시면 됩니다."
      ]
    },
    {
      "cell_type": "code",
      "metadata": {
        "id": "AuGhRZb2BI7W",
        "colab_type": "code",
        "colab": {}
      },
      "source": [
        "# 2.7B 파라미터 모델\n",
        "!python ParlAI/parlai/scripts/safe_interactive.py -t blended_skill_talk -mf zoo:blender/blender_3B/model"
      ],
      "execution_count": 0,
      "outputs": []
    },
    {
      "cell_type": "markdown",
      "metadata": {
        "id": "btNdD5qnCoJ6",
        "colab_type": "text"
      },
      "source": [
        "<br>\n",
        "<br>\n",
        "Colab의 GPU 메모리가 부족해서인지 9.4B 모델은 실행되지 않습니다^^;"
      ]
    },
    {
      "cell_type": "code",
      "metadata": {
        "id": "4f9KmsjXM2On",
        "colab_type": "code",
        "colab": {}
      },
      "source": [
        "# 9.4B 파라미터 모델\n",
        "!python ParlAI/parlai/scripts/safe_interactive.py -t blended_skill_talk -mf zoo:blender/blender_9B/model"
      ],
      "execution_count": 0,
      "outputs": []
    }
  ]
}